{
 "cells": [
  {
   "cell_type": "code",
   "execution_count": 2,
   "id": "6d27e06e-d68e-42de-b896-0509bc73313c",
   "metadata": {},
   "outputs": [],
   "source": [
    "import numpy as np\n",
    "import pandas as pd"
   ]
  },
  {
   "cell_type": "code",
   "execution_count": 3,
   "id": "09936ff9-dedf-4fdf-b015-9dbdb5660541",
   "metadata": {},
   "outputs": [],
   "source": [
    "df = pd.read_csv('./IMDB Dataset.csv')"
   ]
  },
  {
   "cell_type": "code",
   "execution_count": 4,
   "id": "6ee1531b-e14d-4edb-95e2-84e1eb5ae3c4",
   "metadata": {},
   "outputs": [
    {
     "data": {
      "text/html": [
       "<div>\n",
       "<style scoped>\n",
       "    .dataframe tbody tr th:only-of-type {\n",
       "        vertical-align: middle;\n",
       "    }\n",
       "\n",
       "    .dataframe tbody tr th {\n",
       "        vertical-align: top;\n",
       "    }\n",
       "\n",
       "    .dataframe thead th {\n",
       "        text-align: right;\n",
       "    }\n",
       "</style>\n",
       "<table border=\"1\" class=\"dataframe\">\n",
       "  <thead>\n",
       "    <tr style=\"text-align: right;\">\n",
       "      <th></th>\n",
       "      <th>review</th>\n",
       "      <th>sentiment</th>\n",
       "    </tr>\n",
       "  </thead>\n",
       "  <tbody>\n",
       "    <tr>\n",
       "      <th>0</th>\n",
       "      <td>One of the other reviewers has mentioned that ...</td>\n",
       "      <td>positive</td>\n",
       "    </tr>\n",
       "    <tr>\n",
       "      <th>1</th>\n",
       "      <td>A wonderful little production. &lt;br /&gt;&lt;br /&gt;The...</td>\n",
       "      <td>positive</td>\n",
       "    </tr>\n",
       "    <tr>\n",
       "      <th>2</th>\n",
       "      <td>I thought this was a wonderful way to spend ti...</td>\n",
       "      <td>positive</td>\n",
       "    </tr>\n",
       "    <tr>\n",
       "      <th>3</th>\n",
       "      <td>Basically there's a family where a little boy ...</td>\n",
       "      <td>negative</td>\n",
       "    </tr>\n",
       "    <tr>\n",
       "      <th>4</th>\n",
       "      <td>Petter Mattei's \"Love in the Time of Money\" is...</td>\n",
       "      <td>positive</td>\n",
       "    </tr>\n",
       "  </tbody>\n",
       "</table>\n",
       "</div>"
      ],
      "text/plain": [
       "                                              review sentiment\n",
       "0  One of the other reviewers has mentioned that ...  positive\n",
       "1  A wonderful little production. <br /><br />The...  positive\n",
       "2  I thought this was a wonderful way to spend ti...  positive\n",
       "3  Basically there's a family where a little boy ...  negative\n",
       "4  Petter Mattei's \"Love in the Time of Money\" is...  positive"
      ]
     },
     "execution_count": 4,
     "metadata": {},
     "output_type": "execute_result"
    }
   ],
   "source": [
    "df.head()"
   ]
  },
  {
   "cell_type": "code",
   "execution_count": 5,
   "id": "5d97f61b-0ae1-46c0-8723-acec155dd802",
   "metadata": {},
   "outputs": [
    {
     "data": {
      "text/plain": [
       "sentiment\n",
       "positive    25000\n",
       "negative    25000\n",
       "Name: count, dtype: int64"
      ]
     },
     "execution_count": 5,
     "metadata": {},
     "output_type": "execute_result"
    }
   ],
   "source": [
    "df['sentiment'].value_counts()"
   ]
  },
  {
   "cell_type": "code",
   "execution_count": 6,
   "id": "43c818f8-04b7-49e6-b9a7-0b4042c0e73f",
   "metadata": {},
   "outputs": [
    {
     "data": {
      "text/plain": [
       "\"One of the other reviewers has mentioned that after watching just 1 Oz episode you'll be hooked. They are right, as this is exactly what happened with me.<br /><br />The first thing that struck me about Oz was its brutality and unflinching scenes of violence, which set in right from the word GO. Trust me, this is not a show for the faint hearted or timid. This show pulls no punches with regards to drugs, sex or violence. Its is hardcore, in the classic use of the word.<br /><br />It is called OZ as that is the nickname given to the Oswald Maximum Security State Penitentary. It focuses mainly on Emerald City, an experimental section of the prison where all the cells have glass fronts and face inwards, so privacy is not high on the agenda. Em City is home to many..Aryans, Muslims, gangstas, Latinos, Christians, Italians, Irish and more....so scuffles, death stares, dodgy dealings and shady agreements are never far away.<br /><br />I would say the main appeal of the show is due to the fact that it goes where other shows wouldn't dare. Forget pretty pictures painted for mainstream audiences, forget charm, forget romance...OZ doesn't mess around. The first episode I ever saw struck me as so nasty it was surreal, I couldn't say I was ready for it, but as I watched more, I developed a taste for Oz, and got accustomed to the high levels of graphic violence. Not just violence, but injustice (crooked guards who'll be sold out for a nickel, inmates who'll kill on order and get away with it, well mannered, middle class inmates being turned into prison bitches due to their lack of street skills or prison experience) Watching Oz, you may become comfortable with what is uncomfortable viewing....thats if you can get in touch with your darker side.\""
      ]
     },
     "execution_count": 6,
     "metadata": {},
     "output_type": "execute_result"
    }
   ],
   "source": [
    "df['review'][0]"
   ]
  },
  {
   "cell_type": "code",
   "execution_count": 7,
   "id": "77d5f0bb-522d-4818-bba7-3ffd145b6ef8",
   "metadata": {},
   "outputs": [
    {
     "data": {
      "text/plain": [
       "418"
      ]
     },
     "execution_count": 7,
     "metadata": {},
     "output_type": "execute_result"
    }
   ],
   "source": [
    "df.duplicated().sum()"
   ]
  },
  {
   "cell_type": "code",
   "execution_count": 8,
   "id": "ef5faae5-4aa6-4ef7-ae40-eb1bcdc9d8fd",
   "metadata": {},
   "outputs": [],
   "source": [
    "df.drop_duplicates(inplace= True)"
   ]
  },
  {
   "cell_type": "code",
   "execution_count": 9,
   "id": "b627719e-2fed-4ede-ad1b-c9ae7ebafa6b",
   "metadata": {},
   "outputs": [
    {
     "data": {
      "text/plain": [
       "0"
      ]
     },
     "execution_count": 9,
     "metadata": {},
     "output_type": "execute_result"
    }
   ],
   "source": [
    "df.duplicated().sum()"
   ]
  },
  {
   "cell_type": "code",
   "execution_count": 10,
   "id": "a75f9a65-ab68-42d3-84fc-0fdce6e9874f",
   "metadata": {},
   "outputs": [],
   "source": [
    "##preprocessing"
   ]
  },
  {
   "cell_type": "code",
   "execution_count": 11,
   "id": "910c7527-20ad-444f-adce-5de768a9b9f8",
   "metadata": {},
   "outputs": [],
   "source": [
    "import re\n",
    "def remove_tags(raw_text):\n",
    "    cleaned_text = re.sub(re.compile('<.*?>'),'',raw_text)\n",
    "    return cleaned_text"
   ]
  },
  {
   "cell_type": "code",
   "execution_count": 12,
   "id": "cf169bfe-5e26-4a02-9e4d-d655c2394479",
   "metadata": {},
   "outputs": [],
   "source": [
    "df['review'] = df['review'].apply(remove_tags)"
   ]
  },
  {
   "cell_type": "code",
   "execution_count": 13,
   "id": "eaeef11d-d2be-47ff-8334-7c88cb631c6e",
   "metadata": {},
   "outputs": [
    {
     "data": {
      "text/html": [
       "<div>\n",
       "<style scoped>\n",
       "    .dataframe tbody tr th:only-of-type {\n",
       "        vertical-align: middle;\n",
       "    }\n",
       "\n",
       "    .dataframe tbody tr th {\n",
       "        vertical-align: top;\n",
       "    }\n",
       "\n",
       "    .dataframe thead th {\n",
       "        text-align: right;\n",
       "    }\n",
       "</style>\n",
       "<table border=\"1\" class=\"dataframe\">\n",
       "  <thead>\n",
       "    <tr style=\"text-align: right;\">\n",
       "      <th></th>\n",
       "      <th>review</th>\n",
       "      <th>sentiment</th>\n",
       "    </tr>\n",
       "  </thead>\n",
       "  <tbody>\n",
       "    <tr>\n",
       "      <th>0</th>\n",
       "      <td>One of the other reviewers has mentioned that ...</td>\n",
       "      <td>positive</td>\n",
       "    </tr>\n",
       "    <tr>\n",
       "      <th>1</th>\n",
       "      <td>A wonderful little production. The filming tec...</td>\n",
       "      <td>positive</td>\n",
       "    </tr>\n",
       "    <tr>\n",
       "      <th>2</th>\n",
       "      <td>I thought this was a wonderful way to spend ti...</td>\n",
       "      <td>positive</td>\n",
       "    </tr>\n",
       "    <tr>\n",
       "      <th>3</th>\n",
       "      <td>Basically there's a family where a little boy ...</td>\n",
       "      <td>negative</td>\n",
       "    </tr>\n",
       "    <tr>\n",
       "      <th>4</th>\n",
       "      <td>Petter Mattei's \"Love in the Time of Money\" is...</td>\n",
       "      <td>positive</td>\n",
       "    </tr>\n",
       "    <tr>\n",
       "      <th>...</th>\n",
       "      <td>...</td>\n",
       "      <td>...</td>\n",
       "    </tr>\n",
       "    <tr>\n",
       "      <th>49995</th>\n",
       "      <td>I thought this movie did a down right good job...</td>\n",
       "      <td>positive</td>\n",
       "    </tr>\n",
       "    <tr>\n",
       "      <th>49996</th>\n",
       "      <td>Bad plot, bad dialogue, bad acting, idiotic di...</td>\n",
       "      <td>negative</td>\n",
       "    </tr>\n",
       "    <tr>\n",
       "      <th>49997</th>\n",
       "      <td>I am a Catholic taught in parochial elementary...</td>\n",
       "      <td>negative</td>\n",
       "    </tr>\n",
       "    <tr>\n",
       "      <th>49998</th>\n",
       "      <td>I'm going to have to disagree with the previou...</td>\n",
       "      <td>negative</td>\n",
       "    </tr>\n",
       "    <tr>\n",
       "      <th>49999</th>\n",
       "      <td>No one expects the Star Trek movies to be high...</td>\n",
       "      <td>negative</td>\n",
       "    </tr>\n",
       "  </tbody>\n",
       "</table>\n",
       "<p>49582 rows × 2 columns</p>\n",
       "</div>"
      ],
      "text/plain": [
       "                                                  review sentiment\n",
       "0      One of the other reviewers has mentioned that ...  positive\n",
       "1      A wonderful little production. The filming tec...  positive\n",
       "2      I thought this was a wonderful way to spend ti...  positive\n",
       "3      Basically there's a family where a little boy ...  negative\n",
       "4      Petter Mattei's \"Love in the Time of Money\" is...  positive\n",
       "...                                                  ...       ...\n",
       "49995  I thought this movie did a down right good job...  positive\n",
       "49996  Bad plot, bad dialogue, bad acting, idiotic di...  negative\n",
       "49997  I am a Catholic taught in parochial elementary...  negative\n",
       "49998  I'm going to have to disagree with the previou...  negative\n",
       "49999  No one expects the Star Trek movies to be high...  negative\n",
       "\n",
       "[49582 rows x 2 columns]"
      ]
     },
     "execution_count": 13,
     "metadata": {},
     "output_type": "execute_result"
    }
   ],
   "source": [
    "df #no html tags"
   ]
  },
  {
   "cell_type": "code",
   "execution_count": 14,
   "id": "59dba2cd-9e6a-4e52-892b-f5fb0ecb5ae1",
   "metadata": {},
   "outputs": [],
   "source": [
    "df['review'] = df['review'].apply(lambda x : x.lower())"
   ]
  },
  {
   "cell_type": "code",
   "execution_count": 15,
   "id": "a671babf-29d2-4508-8638-9a5813517fec",
   "metadata": {},
   "outputs": [
    {
     "name": "stdout",
     "output_type": "stream",
     "text": [
      "Requirement already satisfied: nltk in c:\\users\\siddh\\appdata\\local\\programs\\python\\python311\\lib\\site-packages (3.9.1)\n",
      "Requirement already satisfied: click in c:\\users\\siddh\\appdata\\local\\programs\\python\\python311\\lib\\site-packages (from nltk) (8.1.7)\n",
      "Requirement already satisfied: joblib in c:\\users\\siddh\\appdata\\local\\programs\\python\\python311\\lib\\site-packages (from nltk) (1.1.1)\n",
      "Requirement already satisfied: regex>=2021.8.3 in c:\\users\\siddh\\appdata\\local\\programs\\python\\python311\\lib\\site-packages (from nltk) (2023.12.25)\n",
      "Requirement already satisfied: tqdm in c:\\users\\siddh\\appdata\\local\\programs\\python\\python311\\lib\\site-packages (from nltk) (4.66.2)\n",
      "Requirement already satisfied: colorama in c:\\users\\siddh\\appdata\\local\\programs\\python\\python311\\lib\\site-packages (from click->nltk) (0.4.6)\n"
     ]
    }
   ],
   "source": [
    "!pip install nltk"
   ]
  },
  {
   "cell_type": "code",
   "execution_count": 16,
   "id": "a5d2ea00-6433-48be-8ce5-6c14cd24a6f8",
   "metadata": {},
   "outputs": [
    {
     "name": "stderr",
     "output_type": "stream",
     "text": [
      "[nltk_data] Downloading package stopwords to\n",
      "[nltk_data]     C:\\Users\\siddh\\AppData\\Roaming\\nltk_data...\n",
      "[nltk_data]   Package stopwords is already up-to-date!\n"
     ]
    },
    {
     "data": {
      "text/plain": [
       "True"
      ]
     },
     "execution_count": 16,
     "metadata": {},
     "output_type": "execute_result"
    }
   ],
   "source": [
    "import nltk\n",
    "nltk.download('stopwords')"
   ]
  },
  {
   "cell_type": "code",
   "execution_count": 17,
   "id": "a38df612-236c-4ce6-a424-3afa34eab992",
   "metadata": {},
   "outputs": [],
   "source": [
    "from nltk.corpus import stopwords\n",
    "\n",
    "sw_list = stopwords.words('english')"
   ]
  },
  {
   "cell_type": "code",
   "execution_count": 18,
   "id": "bd7aeecc-54ca-4e0d-ae59-cb712e29bd50",
   "metadata": {},
   "outputs": [],
   "source": [
    "df['review'] = df['review'].apply(lambda x : [item for item in x.split() if item not in sw_list]).apply(lambda y: \" \".join(y))"
   ]
  },
  {
   "cell_type": "code",
   "execution_count": 19,
   "id": "73e7867a-2ba6-405b-b4db-2468f9d52d82",
   "metadata": {},
   "outputs": [
    {
     "data": {
      "text/html": [
       "<div>\n",
       "<style scoped>\n",
       "    .dataframe tbody tr th:only-of-type {\n",
       "        vertical-align: middle;\n",
       "    }\n",
       "\n",
       "    .dataframe tbody tr th {\n",
       "        vertical-align: top;\n",
       "    }\n",
       "\n",
       "    .dataframe thead th {\n",
       "        text-align: right;\n",
       "    }\n",
       "</style>\n",
       "<table border=\"1\" class=\"dataframe\">\n",
       "  <thead>\n",
       "    <tr style=\"text-align: right;\">\n",
       "      <th></th>\n",
       "      <th>review</th>\n",
       "      <th>sentiment</th>\n",
       "    </tr>\n",
       "  </thead>\n",
       "  <tbody>\n",
       "    <tr>\n",
       "      <th>0</th>\n",
       "      <td>one reviewers mentioned watching 1 oz episode ...</td>\n",
       "      <td>positive</td>\n",
       "    </tr>\n",
       "    <tr>\n",
       "      <th>1</th>\n",
       "      <td>wonderful little production. filming technique...</td>\n",
       "      <td>positive</td>\n",
       "    </tr>\n",
       "    <tr>\n",
       "      <th>2</th>\n",
       "      <td>thought wonderful way spend time hot summer we...</td>\n",
       "      <td>positive</td>\n",
       "    </tr>\n",
       "    <tr>\n",
       "      <th>3</th>\n",
       "      <td>basically there's family little boy (jake) thi...</td>\n",
       "      <td>negative</td>\n",
       "    </tr>\n",
       "    <tr>\n",
       "      <th>4</th>\n",
       "      <td>petter mattei's \"love time money\" visually stu...</td>\n",
       "      <td>positive</td>\n",
       "    </tr>\n",
       "    <tr>\n",
       "      <th>...</th>\n",
       "      <td>...</td>\n",
       "      <td>...</td>\n",
       "    </tr>\n",
       "    <tr>\n",
       "      <th>49995</th>\n",
       "      <td>thought movie right good job. creative origina...</td>\n",
       "      <td>positive</td>\n",
       "    </tr>\n",
       "    <tr>\n",
       "      <th>49996</th>\n",
       "      <td>bad plot, bad dialogue, bad acting, idiotic di...</td>\n",
       "      <td>negative</td>\n",
       "    </tr>\n",
       "    <tr>\n",
       "      <th>49997</th>\n",
       "      <td>catholic taught parochial elementary schools n...</td>\n",
       "      <td>negative</td>\n",
       "    </tr>\n",
       "    <tr>\n",
       "      <th>49998</th>\n",
       "      <td>i'm going disagree previous comment side malti...</td>\n",
       "      <td>negative</td>\n",
       "    </tr>\n",
       "    <tr>\n",
       "      <th>49999</th>\n",
       "      <td>one expects star trek movies high art, fans ex...</td>\n",
       "      <td>negative</td>\n",
       "    </tr>\n",
       "  </tbody>\n",
       "</table>\n",
       "<p>49582 rows × 2 columns</p>\n",
       "</div>"
      ],
      "text/plain": [
       "                                                  review sentiment\n",
       "0      one reviewers mentioned watching 1 oz episode ...  positive\n",
       "1      wonderful little production. filming technique...  positive\n",
       "2      thought wonderful way spend time hot summer we...  positive\n",
       "3      basically there's family little boy (jake) thi...  negative\n",
       "4      petter mattei's \"love time money\" visually stu...  positive\n",
       "...                                                  ...       ...\n",
       "49995  thought movie right good job. creative origina...  positive\n",
       "49996  bad plot, bad dialogue, bad acting, idiotic di...  negative\n",
       "49997  catholic taught parochial elementary schools n...  negative\n",
       "49998  i'm going disagree previous comment side malti...  negative\n",
       "49999  one expects star trek movies high art, fans ex...  negative\n",
       "\n",
       "[49582 rows x 2 columns]"
      ]
     },
     "execution_count": 19,
     "metadata": {},
     "output_type": "execute_result"
    }
   ],
   "source": [
    "df"
   ]
  },
  {
   "cell_type": "code",
   "execution_count": 20,
   "id": "464b1d58-e33c-4b77-8934-126caffef1a9",
   "metadata": {},
   "outputs": [],
   "source": [
    "X = df.iloc[:,0:1]\n",
    "y = df['sentiment']"
   ]
  },
  {
   "cell_type": "code",
   "execution_count": 21,
   "id": "4e79f3ea-2eed-4565-835e-e904da6b4cfa",
   "metadata": {},
   "outputs": [
    {
     "data": {
      "text/plain": [
       "0        positive\n",
       "1        positive\n",
       "2        positive\n",
       "3        negative\n",
       "4        positive\n",
       "           ...   \n",
       "49995    positive\n",
       "49996    negative\n",
       "49997    negative\n",
       "49998    negative\n",
       "49999    negative\n",
       "Name: sentiment, Length: 49582, dtype: object"
      ]
     },
     "execution_count": 21,
     "metadata": {},
     "output_type": "execute_result"
    }
   ],
   "source": [
    "y"
   ]
  },
  {
   "cell_type": "code",
   "execution_count": 22,
   "id": "2f5bd3be-a9ca-4276-b58b-2f75f5b4d5f1",
   "metadata": {},
   "outputs": [],
   "source": [
    "from sklearn.preprocessing import LabelEncoder\n",
    "\n",
    "encoder = LabelEncoder()\n",
    "y = y.ravel() # flattens the 2d to 1d array\n",
    "y = encoder.fit_transform(y)"
   ]
  },
  {
   "cell_type": "code",
   "execution_count": 23,
   "id": "e8c30bae-2903-49ba-b9e4-38eae8191a3b",
   "metadata": {},
   "outputs": [
    {
     "data": {
      "text/plain": [
       "array([1, 1, 1, ..., 0, 0, 0])"
      ]
     },
     "execution_count": 23,
     "metadata": {},
     "output_type": "execute_result"
    }
   ],
   "source": [
    "y"
   ]
  },
  {
   "cell_type": "code",
   "execution_count": 24,
   "id": "ff63a8e5-896f-4eba-8c19-060ef1df17da",
   "metadata": {},
   "outputs": [],
   "source": [
    "from sklearn.model_selection import train_test_split\n",
    "X_train , X_test , y_train , y_test = train_test_split(X,y , test_size = 0.2 , random_state = 40 )"
   ]
  },
  {
   "cell_type": "code",
   "execution_count": 25,
   "id": "f60977e8-254d-4f8e-bd1c-3a48746a4485",
   "metadata": {},
   "outputs": [
    {
     "data": {
      "text/plain": [
       "(39665, 1)"
      ]
     },
     "execution_count": 25,
     "metadata": {},
     "output_type": "execute_result"
    }
   ],
   "source": [
    "X_train.shape\n"
   ]
  },
  {
   "cell_type": "code",
   "execution_count": 26,
   "id": "b76b084d-4d0a-4459-80e2-6e0f8a7d6411",
   "metadata": {},
   "outputs": [],
   "source": [
    "## Applying BOW"
   ]
  },
  {
   "cell_type": "code",
   "execution_count": null,
   "id": "105bdd4e-f8b9-4217-8966-ac45e7429269",
   "metadata": {},
   "outputs": [],
   "source": [
    "from sklearn.feature_extraction.text import CountVectorizer\n",
    "\n",
    "cv = CountVectorizer()\n",
    "\n",
    "X_train_bow = cv.fit_transform(X_train['review']).toarray()\n",
    "X_test_bow = cv.transform(X_test['review']).toarray()"
   ]
  },
  {
   "cell_type": "code",
   "execution_count": null,
   "id": "07aad7a5-f9cc-4f7f-8bdf-428aed9a5e2c",
   "metadata": {},
   "outputs": [],
   "source": [
    "X_train_bow.shape  #indicates our vocabulary contains 48326 words"
   ]
  },
  {
   "cell_type": "code",
   "execution_count": null,
   "id": "446fe9aa-4d28-4956-b767-f1196a6a398e",
   "metadata": {},
   "outputs": [],
   "source": [
    "##algorithm"
   ]
  },
  {
   "cell_type": "code",
   "execution_count": 30,
   "id": "370232cc-a439-472b-b7a3-a3e99f0d38a4",
   "metadata": {},
   "outputs": [
    {
     "data": {
      "text/html": [
       "<style>#sk-container-id-1 {color: black;}#sk-container-id-1 pre{padding: 0;}#sk-container-id-1 div.sk-toggleable {background-color: white;}#sk-container-id-1 label.sk-toggleable__label {cursor: pointer;display: block;width: 100%;margin-bottom: 0;padding: 0.3em;box-sizing: border-box;text-align: center;}#sk-container-id-1 label.sk-toggleable__label-arrow:before {content: \"▸\";float: left;margin-right: 0.25em;color: #696969;}#sk-container-id-1 label.sk-toggleable__label-arrow:hover:before {color: black;}#sk-container-id-1 div.sk-estimator:hover label.sk-toggleable__label-arrow:before {color: black;}#sk-container-id-1 div.sk-toggleable__content {max-height: 0;max-width: 0;overflow: hidden;text-align: left;background-color: #f0f8ff;}#sk-container-id-1 div.sk-toggleable__content pre {margin: 0.2em;color: black;border-radius: 0.25em;background-color: #f0f8ff;}#sk-container-id-1 input.sk-toggleable__control:checked~div.sk-toggleable__content {max-height: 200px;max-width: 100%;overflow: auto;}#sk-container-id-1 input.sk-toggleable__control:checked~label.sk-toggleable__label-arrow:before {content: \"▾\";}#sk-container-id-1 div.sk-estimator input.sk-toggleable__control:checked~label.sk-toggleable__label {background-color: #d4ebff;}#sk-container-id-1 div.sk-label input.sk-toggleable__control:checked~label.sk-toggleable__label {background-color: #d4ebff;}#sk-container-id-1 input.sk-hidden--visually {border: 0;clip: rect(1px 1px 1px 1px);clip: rect(1px, 1px, 1px, 1px);height: 1px;margin: -1px;overflow: hidden;padding: 0;position: absolute;width: 1px;}#sk-container-id-1 div.sk-estimator {font-family: monospace;background-color: #f0f8ff;border: 1px dotted black;border-radius: 0.25em;box-sizing: border-box;margin-bottom: 0.5em;}#sk-container-id-1 div.sk-estimator:hover {background-color: #d4ebff;}#sk-container-id-1 div.sk-parallel-item::after {content: \"\";width: 100%;border-bottom: 1px solid gray;flex-grow: 1;}#sk-container-id-1 div.sk-label:hover label.sk-toggleable__label {background-color: #d4ebff;}#sk-container-id-1 div.sk-serial::before {content: \"\";position: absolute;border-left: 1px solid gray;box-sizing: border-box;top: 0;bottom: 0;left: 50%;z-index: 0;}#sk-container-id-1 div.sk-serial {display: flex;flex-direction: column;align-items: center;background-color: white;padding-right: 0.2em;padding-left: 0.2em;position: relative;}#sk-container-id-1 div.sk-item {position: relative;z-index: 1;}#sk-container-id-1 div.sk-parallel {display: flex;align-items: stretch;justify-content: center;background-color: white;position: relative;}#sk-container-id-1 div.sk-item::before, #sk-container-id-1 div.sk-parallel-item::before {content: \"\";position: absolute;border-left: 1px solid gray;box-sizing: border-box;top: 0;bottom: 0;left: 50%;z-index: -1;}#sk-container-id-1 div.sk-parallel-item {display: flex;flex-direction: column;z-index: 1;position: relative;background-color: white;}#sk-container-id-1 div.sk-parallel-item:first-child::after {align-self: flex-end;width: 50%;}#sk-container-id-1 div.sk-parallel-item:last-child::after {align-self: flex-start;width: 50%;}#sk-container-id-1 div.sk-parallel-item:only-child::after {width: 0;}#sk-container-id-1 div.sk-dashed-wrapped {border: 1px dashed gray;margin: 0 0.4em 0.5em 0.4em;box-sizing: border-box;padding-bottom: 0.4em;background-color: white;}#sk-container-id-1 div.sk-label label {font-family: monospace;font-weight: bold;display: inline-block;line-height: 1.2em;}#sk-container-id-1 div.sk-label-container {text-align: center;}#sk-container-id-1 div.sk-container {/* jupyter's `normalize.less` sets `[hidden] { display: none; }` but bootstrap.min.css set `[hidden] { display: none !important; }` so we also need the `!important` here to be able to override the default hidden behavior on the sphinx rendered scikit-learn.org. See: https://github.com/scikit-learn/scikit-learn/issues/21755 */display: inline-block !important;position: relative;}#sk-container-id-1 div.sk-text-repr-fallback {display: none;}</style><div id=\"sk-container-id-1\" class=\"sk-top-container\"><div class=\"sk-text-repr-fallback\"><pre>GaussianNB()</pre><b>In a Jupyter environment, please rerun this cell to show the HTML representation or trust the notebook. <br />On GitHub, the HTML representation is unable to render, please try loading this page with nbviewer.org.</b></div><div class=\"sk-container\" hidden><div class=\"sk-item\"><div class=\"sk-estimator sk-toggleable\"><input class=\"sk-toggleable__control sk-hidden--visually\" id=\"sk-estimator-id-1\" type=\"checkbox\" checked><label for=\"sk-estimator-id-1\" class=\"sk-toggleable__label sk-toggleable__label-arrow\">GaussianNB</label><div class=\"sk-toggleable__content\"><pre>GaussianNB()</pre></div></div></div></div></div>"
      ],
      "text/plain": [
       "GaussianNB()"
      ]
     },
     "execution_count": 30,
     "metadata": {},
     "output_type": "execute_result"
    }
   ],
   "source": [
    "from sklearn.naive_bayes import GaussianNB\n",
    "\n",
    "gnb = GaussianNB()\n",
    "\n",
    "gnb.fit(X_train_bow, y_train)"
   ]
  },
  {
   "cell_type": "code",
   "execution_count": 31,
   "id": "d35e185c-ba86-460b-afef-1b8be0306e8f",
   "metadata": {},
   "outputs": [
    {
     "data": {
      "text/plain": [
       "0.629444166249374"
      ]
     },
     "execution_count": 31,
     "metadata": {},
     "output_type": "execute_result"
    }
   ],
   "source": [
    "y_pred = gnb.predict(X_test_bow)\n",
    "\n",
    "from sklearn.metrics import accuracy_score , confusion_matrix\n",
    "accuracy_score(y_test,y_pred)"
   ]
  },
  {
   "cell_type": "code",
   "execution_count": 32,
   "id": "41d68a75-e9ae-4e03-97d5-2add36a6bdb5",
   "metadata": {},
   "outputs": [
    {
     "data": {
      "text/plain": [
       "array([[691, 305],\n",
       "       [435, 566]], dtype=int64)"
      ]
     },
     "execution_count": 32,
     "metadata": {},
     "output_type": "execute_result"
    }
   ],
   "source": [
    "confusion_matrix(y_test, y_pred)"
   ]
  },
  {
   "cell_type": "code",
   "execution_count": 33,
   "id": "c5f362f7-5c3f-4303-8931-4121a83f6d7a",
   "metadata": {},
   "outputs": [],
   "source": [
    "#second algorithm"
   ]
  },
  {
   "cell_type": "code",
   "execution_count": 34,
   "id": "09c3e7e9-37b2-41a2-a27f-8ed8fe0e3a07",
   "metadata": {},
   "outputs": [],
   "source": [
    "from sklearn.ensemble import RandomForestClassifier\n",
    "rf = RandomForestClassifier()\n",
    "\n"
   ]
  },
  {
   "cell_type": "code",
   "execution_count": 35,
   "id": "41192f2b-56a9-42ac-b71e-83ff738b4839",
   "metadata": {},
   "outputs": [
    {
     "data": {
      "text/plain": [
       "0.8492739108662994"
      ]
     },
     "execution_count": 35,
     "metadata": {},
     "output_type": "execute_result"
    }
   ],
   "source": [
    "### takes so much time\n",
    "\n",
    "rf.fit(X_train_bow , y_train)\n",
    "y_pred = rf.predict(X_test_bow)\n",
    "\n",
    "accuracy_score(y_test , y_pred)"
   ]
  },
  {
   "cell_type": "code",
   "execution_count": 105,
   "id": "770c2dbf-7445-4428-9a23-c5e5f369b308",
   "metadata": {},
   "outputs": [],
   "source": [
    "import pickle\n",
    "with open('RandomForestCV.pkl', 'wb') as file: # Dump the model into the file\n",
    "    pickle.dump(rf, file)"
   ]
  },
  {
   "cell_type": "code",
   "execution_count": 36,
   "id": "85c01308-7a66-4700-a79c-7fc3e1c94413",
   "metadata": {},
   "outputs": [
    {
     "data": {
      "text/plain": [
       "0.8387581372058087"
      ]
     },
     "execution_count": 36,
     "metadata": {},
     "output_type": "execute_result"
    }
   ],
   "source": [
    "### decreasing features by taking frequent 3000 words in the vocabulary\n",
    "\n",
    "cv = CountVectorizer(max_features = 3000)\n",
    "\n",
    "X_train_bow = cv.fit_transform(X_train['review']).toarray()\n",
    "X_test_bow = cv.transform(X_test['review']).toarray()\n",
    "\n",
    "rf = RandomForestClassifier()\n",
    "\n",
    "rf.fit(X_train_bow , y_train)\n",
    "y_pred = rf.predict(X_test_bow)\n",
    "\n",
    "accuracy_score(y_test , y_pred)"
   ]
  },
  {
   "cell_type": "code",
   "execution_count": 37,
   "id": "bcbe5750-9215-407b-bd78-641456178484",
   "metadata": {},
   "outputs": [],
   "source": [
    "### using n - grams"
   ]
  },
  {
   "cell_type": "code",
   "execution_count": 38,
   "id": "32d6a3e3-e6c0-4839-ac44-7a4c91ca6ee2",
   "metadata": {},
   "outputs": [
    {
     "data": {
      "text/plain": [
       "0.8387581372058087"
      ]
     },
     "execution_count": 38,
     "metadata": {},
     "output_type": "execute_result"
    }
   ],
   "source": [
    "cv = CountVectorizer(ngram_range = (1,2) , max_features = 5000)\n",
    "\n",
    "X_train_bow = cv.fit_transform(X_train['review']).toarray()\n",
    "X_test_bow = cv.transform(X_test['review']).toarray()\n",
    "\n",
    "rf = RandomForestClassifier()\n",
    "\n",
    "rf.fit(X_train_bow , y_train)\n",
    "y_pred = rf.predict(X_test_bow)\n",
    "\n",
    "accuracy_score(y_test , y_pred)"
   ]
  },
  {
   "cell_type": "markdown",
   "id": "b5bf5ae2-3c54-4678-a10f-2b628bce9dba",
   "metadata": {},
   "source": [
    "#using tf- idf"
   ]
  },
  {
   "cell_type": "code",
   "execution_count": 39,
   "id": "91bf4f05-c39e-458c-80e8-2b6c021a56c1",
   "metadata": {},
   "outputs": [],
   "source": [
    "from sklearn.feature_extraction.text import TfidfVectorizer"
   ]
  },
  {
   "cell_type": "code",
   "execution_count": 40,
   "id": "1f0a08f6-e44f-495d-92af-4053a1e6f465",
   "metadata": {},
   "outputs": [],
   "source": [
    "tfidf = TfidfVectorizer()"
   ]
  },
  {
   "cell_type": "code",
   "execution_count": 41,
   "id": "8ceaa286-3d0b-4bc0-a593-0ce0655b26bf",
   "metadata": {},
   "outputs": [],
   "source": [
    "X_train_tfidf = tfidf.fit_transform(X_train['review']).toarray()\n",
    "X_test_tfidf = tfidf.transform(X_test['review']).toarray()"
   ]
  },
  {
   "cell_type": "code",
   "execution_count": 42,
   "id": "9a3b783a-67b6-4ad8-953e-538cd35e0e87",
   "metadata": {},
   "outputs": [
    {
     "data": {
      "text/plain": [
       "0.8412618928392589"
      ]
     },
     "execution_count": 42,
     "metadata": {},
     "output_type": "execute_result"
    }
   ],
   "source": [
    "rf = RandomForestClassifier()\n",
    "\n",
    "rf.fit(X_train_tfidf , y_train)\n",
    "y_pred = rf.predict(X_test_tfidf)\n",
    "\n",
    "accuracy_score(y_test , y_pred)"
   ]
  },
  {
   "cell_type": "code",
   "execution_count": 43,
   "id": "ae5f6ea6-af6f-4880-8204-ae9f7cfd00bb",
   "metadata": {},
   "outputs": [],
   "source": [
    "#word2vec"
   ]
  },
  {
   "cell_type": "code",
   "execution_count": 46,
   "id": "635f0c22-0cc4-44ae-978c-0065b8a6b17e",
   "metadata": {},
   "outputs": [
    {
     "name": "stdout",
     "output_type": "stream",
     "text": [
      "Collecting gensim\n",
      "  Downloading gensim-4.3.3-cp311-cp311-win_amd64.whl.metadata (8.2 kB)\n",
      "Requirement already satisfied: numpy<2.0,>=1.18.5 in c:\\users\\siddh\\appdata\\local\\programs\\python\\python311\\lib\\site-packages (from gensim) (1.25.2)\n",
      "Requirement already satisfied: scipy<1.14.0,>=1.7.0 in c:\\users\\siddh\\appdata\\local\\programs\\python\\python311\\lib\\site-packages (from gensim) (1.11.3)\n",
      "Collecting smart-open>=1.8.1 (from gensim)\n",
      "  Downloading smart_open-7.1.0-py3-none-any.whl.metadata (24 kB)\n",
      "Requirement already satisfied: wrapt in c:\\users\\siddh\\appdata\\local\\programs\\python\\python311\\lib\\site-packages (from smart-open>=1.8.1->gensim) (1.16.0)\n",
      "Downloading gensim-4.3.3-cp311-cp311-win_amd64.whl (24.0 MB)\n",
      "   ---------------------------------------- 0.0/24.0 MB ? eta -:--:--\n",
      "   -- ------------------------------------- 1.6/24.0 MB 4.9 MB/s eta 0:00:05\n",
      "   ------ --------------------------------- 3.9/24.0 MB 6.3 MB/s eta 0:00:04\n",
      "   ---------- ----------------------------- 6.3/24.0 MB 7.0 MB/s eta 0:00:03\n",
      "   -------------- ------------------------- 8.7/24.0 MB 7.8 MB/s eta 0:00:02\n",
      "   ----------------- ---------------------- 10.7/24.0 MB 8.2 MB/s eta 0:00:02\n",
      "   --------------------- ------------------ 12.8/24.0 MB 8.3 MB/s eta 0:00:02\n",
      "   ----------------------- ---------------- 13.9/24.0 MB 8.0 MB/s eta 0:00:02\n",
      "   ----------------------- ---------------- 14.2/24.0 MB 7.6 MB/s eta 0:00:02\n",
      "   ------------------------ --------------- 14.7/24.0 MB 6.8 MB/s eta 0:00:02\n",
      "   ------------------------- -------------- 15.2/24.0 MB 6.4 MB/s eta 0:00:02\n",
      "   --------------------------- ------------ 16.3/24.0 MB 6.2 MB/s eta 0:00:02\n",
      "   ------------------------------ --------- 18.1/24.0 MB 6.3 MB/s eta 0:00:01\n",
      "   --------------------------------- ------ 20.2/24.0 MB 6.5 MB/s eta 0:00:01\n",
      "   ----------------------------------- ---- 21.5/24.0 MB 6.5 MB/s eta 0:00:01\n",
      "   -------------------------------------- - 23.1/24.0 MB 6.5 MB/s eta 0:00:01\n",
      "   ---------------------------------------  23.9/24.0 MB 6.5 MB/s eta 0:00:01\n",
      "   ---------------------------------------- 24.0/24.0 MB 6.1 MB/s eta 0:00:00\n",
      "Downloading smart_open-7.1.0-py3-none-any.whl (61 kB)\n",
      "Installing collected packages: smart-open, gensim\n",
      "Successfully installed gensim-4.3.3 smart-open-7.1.0\n"
     ]
    }
   ],
   "source": [
    "!pip install gensim"
   ]
  },
  {
   "cell_type": "code",
   "execution_count": 55,
   "id": "ff6fdbac-6953-4b74-8642-70f300447033",
   "metadata": {},
   "outputs": [
    {
     "name": "stderr",
     "output_type": "stream",
     "text": [
      "[nltk_data] Downloading package punkt_tab to\n",
      "[nltk_data]     C:\\Users\\siddh\\AppData\\Roaming\\nltk_data...\n",
      "[nltk_data]   Unzipping tokenizers\\punkt_tab.zip.\n"
     ]
    },
    {
     "data": {
      "text/plain": [
       "True"
      ]
     },
     "execution_count": 55,
     "metadata": {},
     "output_type": "execute_result"
    }
   ],
   "source": [
    "import nltk\n",
    "nltk.download('punkt_tab')\n"
   ]
  },
  {
   "cell_type": "code",
   "execution_count": 56,
   "id": "b0cb4248-acae-44fe-bba2-959c1eea57c5",
   "metadata": {},
   "outputs": [],
   "source": [
    "import gensim\n",
    "from nltk import sent_tokenize\n",
    "from gensim.utils import simple_preprocess"
   ]
  },
  {
   "cell_type": "code",
   "execution_count": 57,
   "id": "bedcc4e3-1482-40b3-84c6-1f8c26691c75",
   "metadata": {},
   "outputs": [
    {
     "name": "stderr",
     "output_type": "stream",
     "text": [
      "[nltk_data] Downloading package punkt to\n",
      "[nltk_data]     C:\\Users\\siddh\\AppData\\Roaming\\nltk_data...\n",
      "[nltk_data]   Package punkt is already up-to-date!\n"
     ]
    },
    {
     "data": {
      "text/plain": [
       "True"
      ]
     },
     "execution_count": 57,
     "metadata": {},
     "output_type": "execute_result"
    }
   ],
   "source": [
    "import nltk\n",
    "nltk.download('punkt')"
   ]
  },
  {
   "cell_type": "code",
   "execution_count": 58,
   "id": "a187579c-ffd2-49e6-8194-9f3f247aa5c5",
   "metadata": {},
   "outputs": [],
   "source": [
    "story = []\n",
    "for doc in df['review']:\n",
    "    raw_sent = sent_tokenize(doc)\n",
    "    for sent in raw_sent:\n",
    "        story.append(simple_preprocess(sent))"
   ]
  },
  {
   "cell_type": "code",
   "execution_count": 60,
   "id": "f6f4eff2-feb4-49d8-82e8-08e046e9bf5d",
   "metadata": {},
   "outputs": [],
   "source": [
    "model = gensim.models.Word2Vec(\n",
    "    window = 10,\n",
    "    min_count = 2\n",
    ")"
   ]
  },
  {
   "cell_type": "code",
   "execution_count": 61,
   "id": "f0731f52-f9fd-4ccb-ac2b-b353712de214",
   "metadata": {},
   "outputs": [],
   "source": [
    "model.build_vocab(story)"
   ]
  },
  {
   "cell_type": "code",
   "execution_count": 62,
   "id": "538a588d-a478-4463-b656-1308715ea5a7",
   "metadata": {},
   "outputs": [
    {
     "data": {
      "text/plain": [
       "(5875463, 6212140)"
      ]
     },
     "execution_count": 62,
     "metadata": {},
     "output_type": "execute_result"
    }
   ],
   "source": [
    "model.train(story , total_examples = model.corpus_count , epochs = model.epochs)"
   ]
  },
  {
   "cell_type": "code",
   "execution_count": 63,
   "id": "4b040e93-61e6-4640-b33d-dc590d837908",
   "metadata": {},
   "outputs": [
    {
     "data": {
      "text/plain": [
       "31845"
      ]
     },
     "execution_count": 63,
     "metadata": {},
     "output_type": "execute_result"
    }
   ],
   "source": [
    "len(model.wv.index_to_key)"
   ]
  },
  {
   "cell_type": "code",
   "execution_count": 64,
   "id": "be6aeafb-3a9b-47da-a141-eed5f6d7e2e2",
   "metadata": {},
   "outputs": [
    {
     "data": {
      "text/plain": [
       "['movie',\n",
       " 'film',\n",
       " 'one',\n",
       " 'like',\n",
       " 'good',\n",
       " 'it',\n",
       " 'the',\n",
       " 'would',\n",
       " 'time',\n",
       " 'even',\n",
       " 'story',\n",
       " 'see',\n",
       " 'really',\n",
       " 'well',\n",
       " 'much',\n",
       " 'get',\n",
       " 'bad',\n",
       " 'great',\n",
       " 'people',\n",
       " 'first',\n",
       " 'also',\n",
       " 'made',\n",
       " 'make',\n",
       " 'way',\n",
       " 'movies',\n",
       " 'could',\n",
       " 'think',\n",
       " 'characters',\n",
       " 'watch',\n",
       " 'character',\n",
       " 'films',\n",
       " 'that',\n",
       " 'never',\n",
       " 'little',\n",
       " 'show',\n",
       " 'seen',\n",
       " 'many',\n",
       " 'two',\n",
       " 'love',\n",
       " 'acting',\n",
       " 'plot',\n",
       " 'best',\n",
       " 'know',\n",
       " 'life',\n",
       " 'this',\n",
       " 'ever',\n",
       " 'better',\n",
       " 'man',\n",
       " 'there',\n",
       " 'still',\n",
       " 'say',\n",
       " 'scene',\n",
       " 'end',\n",
       " 'and',\n",
       " 'scenes',\n",
       " 'something',\n",
       " 'go',\n",
       " 'real',\n",
       " 'back',\n",
       " 'watching',\n",
       " 'director',\n",
       " 'actors',\n",
       " 'years',\n",
       " 'thing',\n",
       " 'though',\n",
       " 've',\n",
       " 'work',\n",
       " 'look',\n",
       " 'funny',\n",
       " 'actually',\n",
       " 'old',\n",
       " 'nothing',\n",
       " 'going',\n",
       " 'makes',\n",
       " 'new',\n",
       " 'lot',\n",
       " 'another',\n",
       " 'all',\n",
       " 'every',\n",
       " 'find',\n",
       " 'pretty',\n",
       " 'things',\n",
       " 'part',\n",
       " 'can',\n",
       " 'he',\n",
       " 'us',\n",
       " 'world',\n",
       " 'horror',\n",
       " 'around',\n",
       " 'want',\n",
       " 'big',\n",
       " 'quite',\n",
       " 'cast',\n",
       " 'long',\n",
       " 'young',\n",
       " 'enough',\n",
       " 'in',\n",
       " 'take',\n",
       " 'seems',\n",
       " 'got',\n",
       " 'must',\n",
       " 'however',\n",
       " 'may',\n",
       " 'thought',\n",
       " 'fact',\n",
       " 'right',\n",
       " 'come',\n",
       " 'music',\n",
       " 'comedy',\n",
       " 'give',\n",
       " 'original',\n",
       " 'without',\n",
       " 'action',\n",
       " 'always',\n",
       " 'almost',\n",
       " 'script',\n",
       " 'interesting',\n",
       " 'gets',\n",
       " 'done',\n",
       " 'point',\n",
       " 'anything',\n",
       " 'saw',\n",
       " 'series',\n",
       " 'times',\n",
       " 'since',\n",
       " 'least',\n",
       " 'is',\n",
       " 'might',\n",
       " 'guy',\n",
       " 'role',\n",
       " 'whole',\n",
       " 'feel',\n",
       " 'minutes',\n",
       " 'family',\n",
       " 'bit',\n",
       " 'making',\n",
       " 'me',\n",
       " 'far',\n",
       " 'performance',\n",
       " 'probably',\n",
       " 'girl',\n",
       " 'last',\n",
       " 'woman',\n",
       " 'away',\n",
       " 'but',\n",
       " 'tv',\n",
       " 'yet',\n",
       " 'anyone',\n",
       " 'played',\n",
       " 'sure',\n",
       " 'day',\n",
       " 'rather',\n",
       " 'kind',\n",
       " 'on',\n",
       " 'screen',\n",
       " 'you',\n",
       " 'found',\n",
       " 're',\n",
       " 'hard',\n",
       " 'fun',\n",
       " 'here',\n",
       " 'them',\n",
       " 'out',\n",
       " 'course',\n",
       " 'worst',\n",
       " 'looking',\n",
       " 'up',\n",
       " 'although',\n",
       " 'comes',\n",
       " 'american',\n",
       " 'dvd',\n",
       " 'especially',\n",
       " 'put',\n",
       " 'three',\n",
       " 'book',\n",
       " 'shows',\n",
       " 'him',\n",
       " 'everything',\n",
       " 'so',\n",
       " 'set',\n",
       " 'believe',\n",
       " 'maybe',\n",
       " 'someone',\n",
       " 'place',\n",
       " 'let',\n",
       " 'main',\n",
       " 'money',\n",
       " 'actor',\n",
       " 'trying',\n",
       " 'ending',\n",
       " 'year',\n",
       " 'effects',\n",
       " 'goes',\n",
       " 'watched',\n",
       " 'looks',\n",
       " 'war',\n",
       " 'worth',\n",
       " 'job',\n",
       " 'beautiful',\n",
       " 'again',\n",
       " 'takes',\n",
       " 'sense',\n",
       " 'true',\n",
       " 'different',\n",
       " 'they',\n",
       " 'everyone',\n",
       " 'night',\n",
       " 'idea',\n",
       " 'reason',\n",
       " 'together',\n",
       " 'said',\n",
       " 'john',\n",
       " 'special',\n",
       " 'audience',\n",
       " 'high',\n",
       " 'play',\n",
       " 'seem',\n",
       " 'excellent',\n",
       " 'half',\n",
       " 'instead',\n",
       " 'left',\n",
       " 'shot',\n",
       " 'plays',\n",
       " 'what',\n",
       " 'star',\n",
       " 'used',\n",
       " 'house',\n",
       " 'along',\n",
       " 'budget',\n",
       " 'mind',\n",
       " 'simply',\n",
       " 'version',\n",
       " 'death',\n",
       " 'poor',\n",
       " 'seeing',\n",
       " 'men',\n",
       " 'later',\n",
       " 'else',\n",
       " 'not',\n",
       " 'completely',\n",
       " 'nice',\n",
       " 'wife',\n",
       " 'line',\n",
       " 'father',\n",
       " 'black',\n",
       " 'home',\n",
       " 'dead',\n",
       " 'stupid',\n",
       " 'less',\n",
       " 'fan',\n",
       " 'hollywood',\n",
       " 'second',\n",
       " 'read',\n",
       " 'given',\n",
       " 'use',\n",
       " 'low',\n",
       " 'short',\n",
       " 'kids',\n",
       " 'who',\n",
       " 'couple',\n",
       " 'need',\n",
       " 'camera',\n",
       " 'production',\n",
       " 'friends',\n",
       " 'top',\n",
       " 'women',\n",
       " 'classic',\n",
       " 'boring',\n",
       " 'performances',\n",
       " 'help',\n",
       " 'wrong',\n",
       " 'video',\n",
       " 'her',\n",
       " 'awful',\n",
       " 'tell',\n",
       " 'try',\n",
       " 'either',\n",
       " 'recommend',\n",
       " 'came',\n",
       " 'wonderful',\n",
       " 'rest',\n",
       " 'full',\n",
       " 'game',\n",
       " 'too',\n",
       " 'mother',\n",
       " 'person',\n",
       " 'small',\n",
       " 'next',\n",
       " 'truly',\n",
       " 'playing',\n",
       " 'face',\n",
       " 'terrible',\n",
       " 'children',\n",
       " 'name',\n",
       " 'human',\n",
       " 'remember',\n",
       " 'head',\n",
       " 'keep',\n",
       " 'to',\n",
       " 'finally',\n",
       " 'getting',\n",
       " 'perfect',\n",
       " 'absolutely',\n",
       " 'll',\n",
       " 'piece',\n",
       " 'worse',\n",
       " 'episode',\n",
       " 'stars',\n",
       " 'often',\n",
       " 'enjoy',\n",
       " 'school',\n",
       " 'gives',\n",
       " 'now',\n",
       " 'style',\n",
       " 'mean',\n",
       " 'others',\n",
       " 'understand',\n",
       " 'perhaps',\n",
       " 'sex',\n",
       " 'dialogue',\n",
       " 'start',\n",
       " 'definitely',\n",
       " 'we',\n",
       " 'moments',\n",
       " 'off',\n",
       " 'case',\n",
       " 'become',\n",
       " 'cinema',\n",
       " 'as',\n",
       " 'yes',\n",
       " 'early',\n",
       " 'called',\n",
       " 'went',\n",
       " 'based',\n",
       " 'evil',\n",
       " 'picture',\n",
       " 'title',\n",
       " 'no',\n",
       " 'friend',\n",
       " 'boy',\n",
       " 'certainly',\n",
       " 'laugh',\n",
       " 'oh',\n",
       " 'written',\n",
       " 'lines',\n",
       " 'drama',\n",
       " 'felt',\n",
       " 'guys',\n",
       " 'killer',\n",
       " 'direction',\n",
       " 'beginning',\n",
       " 'totally',\n",
       " 'if',\n",
       " 'fans',\n",
       " 'loved',\n",
       " 'sound',\n",
       " 'entire',\n",
       " 'problem',\n",
       " 'live',\n",
       " 'entertaining',\n",
       " 'for',\n",
       " 'sort',\n",
       " 'several',\n",
       " 'mr',\n",
       " 'lives',\n",
       " 'waste',\n",
       " 'lost',\n",
       " 'liked',\n",
       " 'supposed',\n",
       " 'throughout',\n",
       " 'overall',\n",
       " 'hope',\n",
       " 'despite',\n",
       " 'god',\n",
       " 'town',\n",
       " 'care',\n",
       " 'able',\n",
       " 'fine',\n",
       " 'of',\n",
       " 'days',\n",
       " 'heart',\n",
       " 'history',\n",
       " 'final',\n",
       " 'turn',\n",
       " 'matter',\n",
       " 'already',\n",
       " 'stuff',\n",
       " 'humor',\n",
       " 'close',\n",
       " 'with',\n",
       " 'dark',\n",
       " 'seemed',\n",
       " 'over',\n",
       " 'white',\n",
       " 'side',\n",
       " 'past',\n",
       " 'act',\n",
       " 'gave',\n",
       " 'today',\n",
       " 'michael',\n",
       " 'lead',\n",
       " 'car',\n",
       " 'example',\n",
       " 'quality',\n",
       " 'writing',\n",
       " 'turns',\n",
       " 'or',\n",
       " 'viewer',\n",
       " 'wanted',\n",
       " 'brilliant',\n",
       " 'wants',\n",
       " 'amazing',\n",
       " 'guess',\n",
       " 'son',\n",
       " 'horrible',\n",
       " 'hour',\n",
       " 'kill',\n",
       " 'works',\n",
       " 'eyes',\n",
       " 'child',\n",
       " 'behind',\n",
       " 'do',\n",
       " 'enjoyed',\n",
       " 'unfortunately',\n",
       " 'sometimes',\n",
       " 'tries',\n",
       " 'art',\n",
       " 'favorite',\n",
       " 'late',\n",
       " 'becomes',\n",
       " 'extremely',\n",
       " 'city',\n",
       " 'lack',\n",
       " 'stop',\n",
       " 'etc',\n",
       " 'run',\n",
       " 'soon',\n",
       " 'directed',\n",
       " 'flick',\n",
       " 'be',\n",
       " 'known',\n",
       " 'girls',\n",
       " 'actress',\n",
       " 'fight',\n",
       " 'parts',\n",
       " 'killed',\n",
       " 'type',\n",
       " 'took',\n",
       " 'decent',\n",
       " 'coming',\n",
       " 'feeling',\n",
       " 'starts',\n",
       " 'obviously',\n",
       " 'looked',\n",
       " 'highly',\n",
       " 'genre',\n",
       " 'expect',\n",
       " 'daughter',\n",
       " 'except',\n",
       " 'was',\n",
       " 'involved',\n",
       " 'slow',\n",
       " 'self',\n",
       " 'told',\n",
       " 'hand',\n",
       " 'experience',\n",
       " 'chance',\n",
       " 'thinking',\n",
       " 'police',\n",
       " 'gore',\n",
       " 'murder',\n",
       " 'voice',\n",
       " 'age',\n",
       " 'group',\n",
       " 'says',\n",
       " 'which',\n",
       " 'kid',\n",
       " 'leave',\n",
       " 'reality',\n",
       " 'moment',\n",
       " 'english',\n",
       " 'attempt',\n",
       " 'happen',\n",
       " 'writer',\n",
       " 'saying',\n",
       " 'robert',\n",
       " 'cut',\n",
       " 'then',\n",
       " 'hell',\n",
       " 'word',\n",
       " 'james',\n",
       " 'happens',\n",
       " 'blood',\n",
       " 'ago',\n",
       " 'heard',\n",
       " 'david',\n",
       " 'violence',\n",
       " 'brother',\n",
       " 'anyway',\n",
       " 'simple',\n",
       " 'particularly',\n",
       " 'score',\n",
       " 'roles',\n",
       " 'view',\n",
       " 'opening',\n",
       " 'seriously',\n",
       " 'hilarious',\n",
       " 'serious',\n",
       " 'living',\n",
       " 'obvious',\n",
       " 'number',\n",
       " 'including',\n",
       " 'power',\n",
       " 'save',\n",
       " 'possible',\n",
       " 'cannot',\n",
       " 'ok',\n",
       " 'complete',\n",
       " 'cool',\n",
       " 'stories',\n",
       " 'hero',\n",
       " 'interest',\n",
       " 'annoying',\n",
       " 'across',\n",
       " 'wonder',\n",
       " 'order',\n",
       " 'relationship',\n",
       " 'song',\n",
       " 'none',\n",
       " 'words',\n",
       " 'important',\n",
       " 'ridiculous',\n",
       " 'alone',\n",
       " 'husband',\n",
       " 'body',\n",
       " 'hours',\n",
       " 'scary',\n",
       " 'novel',\n",
       " 'talent',\n",
       " 'jokes',\n",
       " 'more',\n",
       " 'whose',\n",
       " 'documentary',\n",
       " 'huge',\n",
       " 'television',\n",
       " 'released',\n",
       " 'shown',\n",
       " 'started',\n",
       " 'strong',\n",
       " 'non',\n",
       " 'running',\n",
       " 'turned',\n",
       " 'career',\n",
       " 'exactly',\n",
       " 'hit',\n",
       " 'disappointed',\n",
       " 'ones',\n",
       " 'mostly',\n",
       " 'cinematography',\n",
       " 'problems',\n",
       " 'sad',\n",
       " 'taken',\n",
       " 'usually',\n",
       " 'usual',\n",
       " 'die',\n",
       " 'beyond',\n",
       " 'shots',\n",
       " 'cheap',\n",
       " 'happened',\n",
       " 'lots',\n",
       " 'before',\n",
       " 'due',\n",
       " 'rating',\n",
       " 'british',\n",
       " 'other',\n",
       " 'crap',\n",
       " 'apparently',\n",
       " 'upon',\n",
       " 'bring',\n",
       " 'happy',\n",
       " 'space',\n",
       " 'taking',\n",
       " 'silly',\n",
       " 'modern',\n",
       " 'opinion',\n",
       " 'attention',\n",
       " 'call',\n",
       " 'light',\n",
       " 'country',\n",
       " 'rock',\n",
       " 'please',\n",
       " 'basically',\n",
       " 'change',\n",
       " 'songs',\n",
       " 'middle',\n",
       " 'sets',\n",
       " 'episodes',\n",
       " 'comic',\n",
       " 'dull',\n",
       " 'miss',\n",
       " 'hate',\n",
       " 'major',\n",
       " 'musical',\n",
       " 'room',\n",
       " 'single',\n",
       " 'monster',\n",
       " 'level',\n",
       " 'ends',\n",
       " 'clearly',\n",
       " 'local',\n",
       " 'four',\n",
       " 'french',\n",
       " 'knows',\n",
       " 'deal',\n",
       " 'moving',\n",
       " 'strange',\n",
       " 'whether',\n",
       " 'class',\n",
       " 'soundtrack',\n",
       " 'female',\n",
       " 'message',\n",
       " 'jack',\n",
       " 'clear',\n",
       " 'enjoyable',\n",
       " 'wish',\n",
       " 'thriller',\n",
       " 'events',\n",
       " 'filmed',\n",
       " 'actual',\n",
       " 'talking',\n",
       " 'romantic',\n",
       " 'somewhat',\n",
       " 'king',\n",
       " 'finds',\n",
       " 'straight',\n",
       " 'storyline',\n",
       " 'knew',\n",
       " 'suspense',\n",
       " 'sequence',\n",
       " 'tells',\n",
       " 'down',\n",
       " 'supporting',\n",
       " 'needs',\n",
       " 'about',\n",
       " 'buy',\n",
       " 'ten',\n",
       " 'add',\n",
       " 'working',\n",
       " 'talk',\n",
       " 'dance',\n",
       " 'predictable',\n",
       " 'mystery',\n",
       " 'comments',\n",
       " 'bunch',\n",
       " 'easy',\n",
       " 'tried',\n",
       " 'form',\n",
       " 'george',\n",
       " 'fast',\n",
       " 'earth',\n",
       " 'doubt',\n",
       " 'easily',\n",
       " 'sister',\n",
       " 'entertainment',\n",
       " 'review',\n",
       " 'similar',\n",
       " 'surprise',\n",
       " 'team',\n",
       " 'editing',\n",
       " 'eye',\n",
       " 'why',\n",
       " 'five',\n",
       " 'parents',\n",
       " 'typical',\n",
       " 'okay',\n",
       " 'falls',\n",
       " 'within',\n",
       " 'did',\n",
       " 'at',\n",
       " 'feels',\n",
       " 'giving',\n",
       " 'rent',\n",
       " 'average',\n",
       " 'crime',\n",
       " 'check',\n",
       " 'realistic',\n",
       " 'crew',\n",
       " 'disney',\n",
       " 'using',\n",
       " 'greatest',\n",
       " 'period',\n",
       " 'learn',\n",
       " 'points',\n",
       " 'dialog',\n",
       " 'among',\n",
       " 'release',\n",
       " 'appears',\n",
       " 'mention',\n",
       " 'doctor',\n",
       " 'effort',\n",
       " 'memorable',\n",
       " 'surprised',\n",
       " 'stand',\n",
       " 'lady',\n",
       " 'gone',\n",
       " 'expected',\n",
       " 'sorry',\n",
       " 'paul',\n",
       " 'deep',\n",
       " 'romance',\n",
       " 'near',\n",
       " 'believable',\n",
       " 'brought',\n",
       " 'figure',\n",
       " 'showing',\n",
       " 'sequences',\n",
       " 'dr',\n",
       " 'th',\n",
       " 'nearly',\n",
       " 'lame',\n",
       " 'kept',\n",
       " 'ways',\n",
       " 'subject',\n",
       " 'feature',\n",
       " 'indeed',\n",
       " 'sequel',\n",
       " 'named',\n",
       " 'stay',\n",
       " 'elements',\n",
       " 'decided',\n",
       " 'avoid',\n",
       " 'certain',\n",
       " 'material',\n",
       " 'animation',\n",
       " 'forget',\n",
       " 'viewers',\n",
       " 'future',\n",
       " 'wait',\n",
       " 'otherwise',\n",
       " 'killing',\n",
       " 'dog',\n",
       " 'famous',\n",
       " 'means',\n",
       " 'fi',\n",
       " 'fall',\n",
       " 'viewing',\n",
       " 'screenplay',\n",
       " 'sci',\n",
       " 'box',\n",
       " 'note',\n",
       " 'theme',\n",
       " 'minute',\n",
       " 'truth',\n",
       " 'laughs',\n",
       " 'needed',\n",
       " 'sit',\n",
       " 'fantastic',\n",
       " 'begins',\n",
       " 'water',\n",
       " 'theater',\n",
       " 'open',\n",
       " 'america',\n",
       " 'somehow',\n",
       " 'move',\n",
       " 'stage',\n",
       " 'whatever',\n",
       " 'hear',\n",
       " 'tale',\n",
       " 'richard',\n",
       " 'mark',\n",
       " 'york',\n",
       " 'oscar',\n",
       " 'meet',\n",
       " 'footage',\n",
       " 'imagine',\n",
       " 'begin',\n",
       " 'follow',\n",
       " 'worked',\n",
       " 'meets',\n",
       " 'are',\n",
       " 'shame',\n",
       " 'leaves',\n",
       " 'lee',\n",
       " 'question',\n",
       " 'difficult',\n",
       " 'particular',\n",
       " 'imdb',\n",
       " 'crazy',\n",
       " 'weak',\n",
       " 'island',\n",
       " 'total',\n",
       " 'peter',\n",
       " 'de',\n",
       " 'directing',\n",
       " 'baby',\n",
       " 'reviews',\n",
       " 'setting',\n",
       " 'possibly',\n",
       " 'air',\n",
       " 'general',\n",
       " 'hot',\n",
       " 'effect',\n",
       " 'battle',\n",
       " 'credits',\n",
       " 'tom',\n",
       " 'situation',\n",
       " 'towards',\n",
       " 'premise',\n",
       " 'my',\n",
       " 'atmosphere',\n",
       " 'japanese',\n",
       " 'nature',\n",
       " 'realize',\n",
       " 'himself',\n",
       " 'poorly',\n",
       " 'powerful',\n",
       " 'features',\n",
       " 'rate',\n",
       " 'gay',\n",
       " 'cheesy',\n",
       " 'plain',\n",
       " 'plus',\n",
       " 'sounds',\n",
       " 'don',\n",
       " 'forward',\n",
       " 'eventually',\n",
       " 'boys',\n",
       " 'earlier',\n",
       " 'leads',\n",
       " 'rich',\n",
       " 'missing',\n",
       " 'society',\n",
       " 'beauty',\n",
       " 'became',\n",
       " 'business',\n",
       " 'various',\n",
       " 'acted',\n",
       " 'western',\n",
       " 'dumb',\n",
       " 'perfectly',\n",
       " 'party',\n",
       " 'caught',\n",
       " 'creepy',\n",
       " 'era',\n",
       " 'superb',\n",
       " 'telling',\n",
       " 'free',\n",
       " 'brings',\n",
       " 'red',\n",
       " 'fire',\n",
       " 'result',\n",
       " 'badly',\n",
       " 'cop',\n",
       " 'mess',\n",
       " 'personal',\n",
       " 'sexual',\n",
       " 'outside',\n",
       " 'emotional',\n",
       " 'gun',\n",
       " 'reasons',\n",
       " 'directors',\n",
       " 'leading',\n",
       " 'development',\n",
       " 'quickly',\n",
       " 'weird',\n",
       " 'william',\n",
       " 'fairly',\n",
       " 'fails',\n",
       " 'street',\n",
       " 'unless',\n",
       " 'season',\n",
       " 'admit',\n",
       " 'dramatic',\n",
       " 'political',\n",
       " 'masterpiece',\n",
       " 'write',\n",
       " 'secret',\n",
       " 'bill',\n",
       " 'incredibly',\n",
       " 'success',\n",
       " 'return',\n",
       " 'pure',\n",
       " 'hands',\n",
       " 'former',\n",
       " 'dancing',\n",
       " 'list',\n",
       " 'dream',\n",
       " 'mentioned',\n",
       " 'value',\n",
       " 'forced',\n",
       " 'portrayed',\n",
       " 'third',\n",
       " 'background',\n",
       " 'joke',\n",
       " 'villain',\n",
       " 'break',\n",
       " 'keeps',\n",
       " 'casting',\n",
       " 'male',\n",
       " 'unique',\n",
       " 'pay',\n",
       " 'escape',\n",
       " 'while',\n",
       " 'deserves',\n",
       " 'pace',\n",
       " 'reading',\n",
       " 'following',\n",
       " 'girlfriend',\n",
       " 'she',\n",
       " 'wasted',\n",
       " 'missed',\n",
       " 'appear',\n",
       " 'front',\n",
       " 'plenty',\n",
       " 'create',\n",
       " 'from',\n",
       " 'nudity',\n",
       " 'trouble',\n",
       " 'writers',\n",
       " 'zombie',\n",
       " 'ask',\n",
       " 'hold',\n",
       " 'older',\n",
       " 'talented',\n",
       " 'apart',\n",
       " 'joe',\n",
       " 'waiting',\n",
       " 'ideas',\n",
       " 'produced',\n",
       " 'large',\n",
       " 'train',\n",
       " 'alien',\n",
       " 'inside',\n",
       " 'cute',\n",
       " 'band',\n",
       " 'previous',\n",
       " 'attempts',\n",
       " 'law',\n",
       " 'unlike',\n",
       " 'cover',\n",
       " 'expecting',\n",
       " 'clever',\n",
       " 'drug',\n",
       " 'pointless',\n",
       " 'remake',\n",
       " 'filled',\n",
       " 'german',\n",
       " 'popular',\n",
       " 'interested',\n",
       " 'portrayal',\n",
       " 'married',\n",
       " 'moves',\n",
       " 'neither',\n",
       " 'twist',\n",
       " 'spirit',\n",
       " 'hardly',\n",
       " 'fit',\n",
       " 'spent',\n",
       " 'alive',\n",
       " 'company',\n",
       " 'ended',\n",
       " 'laughing',\n",
       " 'agree',\n",
       " 'public',\n",
       " 'tension',\n",
       " 'cold',\n",
       " 'language',\n",
       " 'changed',\n",
       " 'present',\n",
       " 'recently',\n",
       " 'when',\n",
       " 'sees',\n",
       " 'manages',\n",
       " 'co',\n",
       " 'brain',\n",
       " 'store',\n",
       " 'fantasy',\n",
       " 'hair',\n",
       " 'honest',\n",
       " 'comment',\n",
       " 'spoilers',\n",
       " 'fighting',\n",
       " 'tough',\n",
       " 'flat',\n",
       " 'office',\n",
       " 'convincing',\n",
       " 'considering',\n",
       " 'itself',\n",
       " 'fear',\n",
       " 'match',\n",
       " 'slightly',\n",
       " 'basic',\n",
       " 'copy',\n",
       " 'through',\n",
       " 'wrote',\n",
       " 'runs',\n",
       " 'la',\n",
       " 'science',\n",
       " 'values',\n",
       " 'glad',\n",
       " ...]"
      ]
     },
     "execution_count": 64,
     "metadata": {},
     "output_type": "execute_result"
    }
   ],
   "source": [
    "model.wv.index_to_key"
   ]
  },
  {
   "cell_type": "code",
   "execution_count": 67,
   "id": "07e9bb06-3af4-4a33-b3ef-fd5a4305f2ed",
   "metadata": {},
   "outputs": [],
   "source": [
    "def document_vector(doc):\n",
    "    doc = [word for word in doc.split() if word in model.wv.index_to_key]\n",
    "    return np.mean(model.wv[doc] , axis = 0 )"
   ]
  },
  {
   "cell_type": "code",
   "execution_count": 68,
   "id": "c32c7480-ebd6-4aa0-b96f-11aa81aa834d",
   "metadata": {},
   "outputs": [
    {
     "data": {
      "text/plain": [
       "array([-0.17888154,  0.45295545,  0.14197834,  0.21970473, -0.15529935,\n",
       "       -0.58838654,  0.21036358,  0.8891549 , -0.3450474 , -0.26558062,\n",
       "       -0.30587873, -0.4454744 ,  0.13829736,  0.081778  ,  0.15076236,\n",
       "       -0.11614622, -0.00919233, -0.33331013, -0.10694014, -0.66050494,\n",
       "        0.05119769,  0.2514973 ,  0.0907824 , -0.27242732, -0.33295944,\n",
       "       -0.01769579, -0.3032438 , -0.01269659, -0.33428666,  0.047382  ,\n",
       "        0.31816635,  0.02065944,  0.20099778, -0.2914552 , -0.10178244,\n",
       "        0.37489802,  0.07098916, -0.39121795, -0.2288766 , -0.7650213 ,\n",
       "        0.12069517, -0.26871276,  0.0811187 , -0.0816585 ,  0.4818114 ,\n",
       "       -0.1761682 , -0.28188306, -0.04288814,  0.13367724,  0.42347625,\n",
       "        0.12720548, -0.38065684, -0.42660788, -0.06734861, -0.1488817 ,\n",
       "        0.24486002,  0.2466731 ,  0.02508778, -0.31311876,  0.11281795,\n",
       "        0.10673671,  0.09952986,  0.00224548, -0.10983808, -0.45977283,\n",
       "        0.2689529 ,  0.07767156,  0.05341562, -0.34854746,  0.3064225 ,\n",
       "       -0.29533052,  0.05620761,  0.5710898 , -0.07386387,  0.41365653,\n",
       "        0.16070376,  0.00480761, -0.13800997, -0.50576633,  0.12404764,\n",
       "       -0.29763526,  0.07061205, -0.4315546 ,  0.5005599 , -0.15858087,\n",
       "       -0.16493627, -0.08947174,  0.20557076,  0.2842548 ,  0.1700305 ,\n",
       "        0.2941846 ,  0.30048373,  0.02346899,  0.09491901,  0.65088034,\n",
       "        0.28509614,  0.12310918, -0.17143385, -0.02647529, -0.1577748 ],\n",
       "      dtype=float32)"
      ]
     },
     "execution_count": 68,
     "metadata": {},
     "output_type": "execute_result"
    }
   ],
   "source": [
    "document_vector(df['review'].values[0])"
   ]
  },
  {
   "cell_type": "code",
   "execution_count": 72,
   "id": "5f7b0554-4bdb-4983-b441-7b3418c8448c",
   "metadata": {},
   "outputs": [],
   "source": [
    "from tqdm import tqdm"
   ]
  },
  {
   "cell_type": "code",
   "execution_count": 81,
   "id": "231e90fd-efed-40ce-ab7e-05c958b52039",
   "metadata": {},
   "outputs": [
    {
     "data": {
      "text/html": [
       "<div>\n",
       "<style scoped>\n",
       "    .dataframe tbody tr th:only-of-type {\n",
       "        vertical-align: middle;\n",
       "    }\n",
       "\n",
       "    .dataframe tbody tr th {\n",
       "        vertical-align: top;\n",
       "    }\n",
       "\n",
       "    .dataframe thead th {\n",
       "        text-align: right;\n",
       "    }\n",
       "</style>\n",
       "<table border=\"1\" class=\"dataframe\">\n",
       "  <thead>\n",
       "    <tr style=\"text-align: right;\">\n",
       "      <th></th>\n",
       "      <th>review</th>\n",
       "      <th>sentiment</th>\n",
       "    </tr>\n",
       "  </thead>\n",
       "  <tbody>\n",
       "    <tr>\n",
       "      <th>0</th>\n",
       "      <td>one reviewers mentioned watching 1 oz episode ...</td>\n",
       "      <td>positive</td>\n",
       "    </tr>\n",
       "    <tr>\n",
       "      <th>1</th>\n",
       "      <td>wonderful little production. filming technique...</td>\n",
       "      <td>positive</td>\n",
       "    </tr>\n",
       "    <tr>\n",
       "      <th>2</th>\n",
       "      <td>thought wonderful way spend time hot summer we...</td>\n",
       "      <td>positive</td>\n",
       "    </tr>\n",
       "    <tr>\n",
       "      <th>3</th>\n",
       "      <td>basically there's family little boy (jake) thi...</td>\n",
       "      <td>negative</td>\n",
       "    </tr>\n",
       "    <tr>\n",
       "      <th>4</th>\n",
       "      <td>petter mattei's \"love time money\" visually stu...</td>\n",
       "      <td>positive</td>\n",
       "    </tr>\n",
       "    <tr>\n",
       "      <th>...</th>\n",
       "      <td>...</td>\n",
       "      <td>...</td>\n",
       "    </tr>\n",
       "    <tr>\n",
       "      <th>9995</th>\n",
       "      <td>fun, entertaining movie wwii german spy (julie...</td>\n",
       "      <td>positive</td>\n",
       "    </tr>\n",
       "    <tr>\n",
       "      <th>9996</th>\n",
       "      <td>give break. anyone say \"good hockey movie\"? kn...</td>\n",
       "      <td>negative</td>\n",
       "    </tr>\n",
       "    <tr>\n",
       "      <th>9997</th>\n",
       "      <td>movie bad movie. watching endless series bad h...</td>\n",
       "      <td>negative</td>\n",
       "    </tr>\n",
       "    <tr>\n",
       "      <th>9998</th>\n",
       "      <td>movie probably made entertain middle school, e...</td>\n",
       "      <td>negative</td>\n",
       "    </tr>\n",
       "    <tr>\n",
       "      <th>9999</th>\n",
       "      <td>smashing film film-making. shows intense stran...</td>\n",
       "      <td>positive</td>\n",
       "    </tr>\n",
       "  </tbody>\n",
       "</table>\n",
       "<p>9983 rows × 2 columns</p>\n",
       "</div>"
      ],
      "text/plain": [
       "                                                 review sentiment\n",
       "0     one reviewers mentioned watching 1 oz episode ...  positive\n",
       "1     wonderful little production. filming technique...  positive\n",
       "2     thought wonderful way spend time hot summer we...  positive\n",
       "3     basically there's family little boy (jake) thi...  negative\n",
       "4     petter mattei's \"love time money\" visually stu...  positive\n",
       "...                                                 ...       ...\n",
       "9995  fun, entertaining movie wwii german spy (julie...  positive\n",
       "9996  give break. anyone say \"good hockey movie\"? kn...  negative\n",
       "9997  movie bad movie. watching endless series bad h...  negative\n",
       "9998  movie probably made entertain middle school, e...  negative\n",
       "9999  smashing film film-making. shows intense stran...  positive\n",
       "\n",
       "[9983 rows x 2 columns]"
      ]
     },
     "execution_count": 81,
     "metadata": {},
     "output_type": "execute_result"
    }
   ],
   "source": [
    "df"
   ]
  },
  {
   "cell_type": "code",
   "execution_count": 79,
   "id": "69031551-4d62-4508-87b5-9bea897630c0",
   "metadata": {},
   "outputs": [
    {
     "name": "stderr",
     "output_type": "stream",
     "text": [
      "C:\\Users\\siddh\\AppData\\Local\\Temp\\ipykernel_7156\\1413856673.py:1: SettingWithCopyWarning: \n",
      "A value is trying to be set on a copy of a slice from a DataFrame.\n",
      "Try using .loc[row_indexer,col_indexer] = value instead\n",
      "\n",
      "See the caveats in the documentation: https://pandas.pydata.org/pandas-docs/stable/user_guide/indexing.html#returning-a-view-versus-a-copy\n",
      "  df['review'] = pd.DataFrame(df['review'])\n"
     ]
    }
   ],
   "source": [
    "df['review'] = pd.DataFrame(df['review'])"
   ]
  },
  {
   "cell_type": "code",
   "execution_count": 84,
   "id": "0eef597f-8fcc-443c-b10e-c2a42db5cc9e",
   "metadata": {},
   "outputs": [
    {
     "name": "stderr",
     "output_type": "stream",
     "text": [
      "100%|██████████████████████████████████████████████████████████████████████████████| 9983/9983 [39:30<00:00,  4.21it/s]\n"
     ]
    }
   ],
   "source": [
    "x = []\n",
    "for doc in tqdm(df['review'].values):\n",
    "    x.append(document_vector(doc))"
   ]
  },
  {
   "cell_type": "code",
   "execution_count": 94,
   "id": "94bccc52-0276-491e-97cb-e6cc0e2b753d",
   "metadata": {},
   "outputs": [],
   "source": [
    "X = np.array(x)"
   ]
  },
  {
   "cell_type": "code",
   "execution_count": 86,
   "id": "fc62f372-3e0b-4ff8-bf17-955d4bfb1ccc",
   "metadata": {},
   "outputs": [],
   "source": [
    "arr = np.array(x)"
   ]
  },
  {
   "cell_type": "code",
   "execution_count": 87,
   "id": "92dc3f12-3a30-4688-963b-ab646c2024dc",
   "metadata": {},
   "outputs": [],
   "source": [
    "np.savez('arrays.npz', array1=arr)"
   ]
  },
  {
   "cell_type": "code",
   "execution_count": 88,
   "id": "86b73da7-72c7-4171-b9c8-7c9caf21172b",
   "metadata": {},
   "outputs": [],
   "source": [
    "file = open(\"file1.txt\", \"w+\")\n",
    " \n",
    "# Saving the array in a text file\n",
    "content = str(arr)\n",
    "file.write(content)\n",
    "file.close()"
   ]
  },
  {
   "cell_type": "code",
   "execution_count": 89,
   "id": "921a1b91-5d5c-4f11-a439-0c5f09ded460",
   "metadata": {},
   "outputs": [
    {
     "data": {
      "text/plain": [
       "(9983, 1)"
      ]
     },
     "execution_count": 89,
     "metadata": {},
     "output_type": "execute_result"
    }
   ],
   "source": [
    "X.shape"
   ]
  },
  {
   "cell_type": "code",
   "execution_count": 90,
   "id": "d933ca61-14c5-42f7-b1b4-404ae7d1c6da",
   "metadata": {},
   "outputs": [],
   "source": [
    "from sklearn.preprocessing import LabelEncoder\n",
    "encoder = LabelEncoder()\n",
    "y = encoder.fit_transform(df['sentiment'])"
   ]
  },
  {
   "cell_type": "code",
   "execution_count": 91,
   "id": "5a627cee-058b-4fbf-8b3b-3507c478581d",
   "metadata": {},
   "outputs": [
    {
     "data": {
      "text/plain": [
       "array([1, 1, 1, ..., 0, 0, 1])"
      ]
     },
     "execution_count": 91,
     "metadata": {},
     "output_type": "execute_result"
    }
   ],
   "source": [
    "y"
   ]
  },
  {
   "cell_type": "code",
   "execution_count": 95,
   "id": "7dcb402b-c728-4ade-b24a-13aedc6818a8",
   "metadata": {},
   "outputs": [],
   "source": [
    "from sklearn.model_selection import train_test_split\n",
    "X_train , X_test , y_train , y_test = train_test_split(X,y , test_size = 0.2 , random_state = 40 )"
   ]
  },
  {
   "cell_type": "code",
   "execution_count": 98,
   "id": "9064e5b4-e9cb-47bc-9b46-8b69edd72899",
   "metadata": {},
   "outputs": [],
   "source": [
    "from sklearn.ensemble import RandomForestClassifier\n",
    "rf = RandomForestClassifier()\n",
    "rf.fit(X_train , y_train)\n",
    "y_pred = rf.predict(X_test)\n",
    "\n",
    "\n"
   ]
  },
  {
   "cell_type": "code",
   "execution_count": 99,
   "id": "41a6acd4-3cdb-404a-8d86-0bb5888dfc18",
   "metadata": {},
   "outputs": [
    {
     "data": {
      "text/plain": [
       "0.7696544817225839"
      ]
     },
     "execution_count": 99,
     "metadata": {},
     "output_type": "execute_result"
    }
   ],
   "source": [
    "accuracy_score(y_test,y_pred)"
   ]
  },
  {
   "cell_type": "code",
   "execution_count": 100,
   "id": "9667d16d-4101-4751-8c6b-f790d118be0d",
   "metadata": {},
   "outputs": [],
   "source": [
    "\n",
    "\n",
    "\n",
    "\n",
    "import pickle \n",
    "  \n",
    "# Save the trained model as a pickle string. \n",
    "saved_model = pickle.dumps(rf) \n",
    "  \n",
    "# # Load the pickled model \n",
    "# knn_from_pickle = pickle.loads(saved_model) \n",
    "  \n",
    "# # Use the loaded pickled model to make predictions \n",
    "# knn_from_pickle.predict(X_test) "
   ]
  },
  {
   "cell_type": "code",
   "execution_count": 103,
   "id": "1bd62ad1-e0a4-405d-a37a-f58ce24e1107",
   "metadata": {},
   "outputs": [],
   "source": [
    "with open('RandomForestW2Vec.pkl', 'wb') as file: # Dump the model into the file\n",
    "    pickle.dump(rf, file)"
   ]
  },
  {
   "cell_type": "code",
   "execution_count": null,
   "id": "f158ed3e-a38a-42fa-bab2-439d1f3e69d2",
   "metadata": {},
   "outputs": [],
   "source": []
  }
 ],
 "metadata": {
  "kernelspec": {
   "display_name": "Python 3 (ipykernel)",
   "language": "python",
   "name": "python3"
  },
  "language_info": {
   "codemirror_mode": {
    "name": "ipython",
    "version": 3
   },
   "file_extension": ".py",
   "mimetype": "text/x-python",
   "name": "python",
   "nbconvert_exporter": "python",
   "pygments_lexer": "ipython3",
   "version": "3.11.4"
  }
 },
 "nbformat": 4,
 "nbformat_minor": 5
}
